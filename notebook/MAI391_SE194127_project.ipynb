{
  "nbformat": 4,
  "nbformat_minor": 0,
  "metadata": {
    "colab": {
      "provenance": [],
      "authorship_tag": "ABX9TyOS65xT14QWOvEmiEBuisHE",
      "include_colab_link": true
    },
    "kernelspec": {
      "name": "python3",
      "display_name": "Python 3"
    },
    "language_info": {
      "name": "python"
    }
  },
  "cells": [
    {
      "cell_type": "markdown",
      "metadata": {
        "id": "view-in-github",
        "colab_type": "text"
      },
      "source": [
        "<a href=\"https://colab.research.google.com/github/hei1sme/MAI391_project/blob/main/MAI391_SE194127_project.ipynb\" target=\"_parent\"><img src=\"https://colab.research.google.com/assets/colab-badge.svg\" alt=\"Open In Colab\"/></a>"
      ]
    },
    {
      "cell_type": "markdown",
      "source": [
        "# MAI391 FINAL PROJECT"
      ],
      "metadata": {
        "id": "vqvFZaKWVZ3U"
      }
    },
    {
      "cell_type": "markdown",
      "source": [
        "## IMPORT LIBRARIES"
      ],
      "metadata": {
        "id": "Zta32GADU_bh"
      }
    },
    {
      "cell_type": "code",
      "execution_count": null,
      "metadata": {
        "id": "4IZIGmZ3GA_5"
      },
      "outputs": [],
      "source": []
    }
  ]
}